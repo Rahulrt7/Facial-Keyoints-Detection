{
 "cells": [
  {
   "cell_type": "code",
   "execution_count": 1,
   "metadata": {},
   "outputs": [],
   "source": [
    "import pandas as pd\n",
    "import numpy as np"
   ]
  },
  {
   "cell_type": "markdown",
   "metadata": {},
   "source": [
    "## Data Processing"
   ]
  },
  {
   "cell_type": "code",
   "execution_count": 2,
   "metadata": {},
   "outputs": [
    {
     "name": "stdout",
     "output_type": "stream",
     "text": [
      "   left_eye_center_x  left_eye_center_y  right_eye_center_x  \\\n",
      "0          66.033564          39.002274           30.227008   \n",
      "\n",
      "   right_eye_center_y  left_eye_inner_corner_x  left_eye_inner_corner_y  \\\n",
      "0           36.421678                59.582075                39.647423   \n",
      "\n",
      "   left_eye_outer_corner_x  left_eye_outer_corner_y  right_eye_inner_corner_x  \\\n",
      "0                73.130346                39.969997                 36.356571   \n",
      "\n",
      "   right_eye_inner_corner_y  \\\n",
      "0                 37.389402   \n",
      "\n",
      "                         ...                          nose_tip_y  \\\n",
      "0                        ...                           57.066803   \n",
      "\n",
      "   mouth_left_corner_x  mouth_left_corner_y  mouth_right_corner_x  \\\n",
      "0            61.195308            79.970165             28.614496   \n",
      "\n",
      "   mouth_right_corner_y  mouth_center_top_lip_x  mouth_center_top_lip_y  \\\n",
      "0             77.388992               43.312602               72.935459   \n",
      "\n",
      "   mouth_center_bottom_lip_x  mouth_center_bottom_lip_y  \\\n",
      "0                  43.130707                  84.485774   \n",
      "\n",
      "                                               Image  \n",
      "0  238 236 237 238 240 240 239 241 241 243 240 23...  \n",
      "\n",
      "[1 rows x 31 columns]\n",
      "(1, 31)\n",
      "\n",
      "\n",
      "\n"
     ]
    }
   ],
   "source": [
    "# read training.csv and test.csv\n",
    "df = pd.read_csv('./data/training.csv', sep=',')\n",
    "print(df[:1])\n",
    "print(df[:1].shape)\n",
    "print('\\n\\n')"
   ]
  },
  {
   "cell_type": "code",
   "execution_count": 3,
   "metadata": {},
   "outputs": [
    {
     "data": {
      "text/html": [
       "<div>\n",
       "<style scoped>\n",
       "    .dataframe tbody tr th:only-of-type {\n",
       "        vertical-align: middle;\n",
       "    }\n",
       "\n",
       "    .dataframe tbody tr th {\n",
       "        vertical-align: top;\n",
       "    }\n",
       "\n",
       "    .dataframe thead th {\n",
       "        text-align: right;\n",
       "    }\n",
       "</style>\n",
       "<table border=\"1\" class=\"dataframe\">\n",
       "  <thead>\n",
       "    <tr style=\"text-align: right;\">\n",
       "      <th></th>\n",
       "      <th>left_eye_center_x</th>\n",
       "      <th>left_eye_center_y</th>\n",
       "      <th>right_eye_center_x</th>\n",
       "      <th>right_eye_center_y</th>\n",
       "      <th>left_eye_inner_corner_x</th>\n",
       "      <th>left_eye_inner_corner_y</th>\n",
       "      <th>left_eye_outer_corner_x</th>\n",
       "      <th>left_eye_outer_corner_y</th>\n",
       "      <th>right_eye_inner_corner_x</th>\n",
       "      <th>right_eye_inner_corner_y</th>\n",
       "      <th>...</th>\n",
       "      <th>nose_tip_y</th>\n",
       "      <th>mouth_left_corner_x</th>\n",
       "      <th>mouth_left_corner_y</th>\n",
       "      <th>mouth_right_corner_x</th>\n",
       "      <th>mouth_right_corner_y</th>\n",
       "      <th>mouth_center_top_lip_x</th>\n",
       "      <th>mouth_center_top_lip_y</th>\n",
       "      <th>mouth_center_bottom_lip_x</th>\n",
       "      <th>mouth_center_bottom_lip_y</th>\n",
       "      <th>Image</th>\n",
       "    </tr>\n",
       "  </thead>\n",
       "  <tbody>\n",
       "    <tr>\n",
       "      <th>0</th>\n",
       "      <td>66.033564</td>\n",
       "      <td>39.002274</td>\n",
       "      <td>30.227008</td>\n",
       "      <td>36.421678</td>\n",
       "      <td>59.582075</td>\n",
       "      <td>39.647423</td>\n",
       "      <td>73.130346</td>\n",
       "      <td>39.969997</td>\n",
       "      <td>36.356571</td>\n",
       "      <td>37.389402</td>\n",
       "      <td>...</td>\n",
       "      <td>57.066803</td>\n",
       "      <td>61.195308</td>\n",
       "      <td>79.970165</td>\n",
       "      <td>28.614496</td>\n",
       "      <td>77.388992</td>\n",
       "      <td>43.312602</td>\n",
       "      <td>72.935459</td>\n",
       "      <td>43.130707</td>\n",
       "      <td>84.485774</td>\n",
       "      <td>238 236 237 238 240 240 239 241 241 243 240 23...</td>\n",
       "    </tr>\n",
       "    <tr>\n",
       "      <th>1</th>\n",
       "      <td>64.332936</td>\n",
       "      <td>34.970077</td>\n",
       "      <td>29.949277</td>\n",
       "      <td>33.448715</td>\n",
       "      <td>58.856170</td>\n",
       "      <td>35.274349</td>\n",
       "      <td>70.722723</td>\n",
       "      <td>36.187166</td>\n",
       "      <td>36.034723</td>\n",
       "      <td>34.361532</td>\n",
       "      <td>...</td>\n",
       "      <td>55.660936</td>\n",
       "      <td>56.421447</td>\n",
       "      <td>76.352000</td>\n",
       "      <td>35.122383</td>\n",
       "      <td>76.047660</td>\n",
       "      <td>46.684596</td>\n",
       "      <td>70.266553</td>\n",
       "      <td>45.467915</td>\n",
       "      <td>85.480170</td>\n",
       "      <td>219 215 204 196 204 211 212 200 180 168 178 19...</td>\n",
       "    </tr>\n",
       "    <tr>\n",
       "      <th>2</th>\n",
       "      <td>65.057053</td>\n",
       "      <td>34.909642</td>\n",
       "      <td>30.903789</td>\n",
       "      <td>34.909642</td>\n",
       "      <td>59.412000</td>\n",
       "      <td>36.320968</td>\n",
       "      <td>70.984421</td>\n",
       "      <td>36.320968</td>\n",
       "      <td>37.678105</td>\n",
       "      <td>36.320968</td>\n",
       "      <td>...</td>\n",
       "      <td>53.538947</td>\n",
       "      <td>60.822947</td>\n",
       "      <td>73.014316</td>\n",
       "      <td>33.726316</td>\n",
       "      <td>72.732000</td>\n",
       "      <td>47.274947</td>\n",
       "      <td>70.191789</td>\n",
       "      <td>47.274947</td>\n",
       "      <td>78.659368</td>\n",
       "      <td>144 142 159 180 188 188 184 180 167 132 84 59 ...</td>\n",
       "    </tr>\n",
       "    <tr>\n",
       "      <th>3</th>\n",
       "      <td>65.225739</td>\n",
       "      <td>37.261774</td>\n",
       "      <td>32.023096</td>\n",
       "      <td>37.261774</td>\n",
       "      <td>60.003339</td>\n",
       "      <td>39.127179</td>\n",
       "      <td>72.314713</td>\n",
       "      <td>38.380967</td>\n",
       "      <td>37.618643</td>\n",
       "      <td>38.754115</td>\n",
       "      <td>...</td>\n",
       "      <td>54.166539</td>\n",
       "      <td>65.598887</td>\n",
       "      <td>72.703722</td>\n",
       "      <td>37.245496</td>\n",
       "      <td>74.195478</td>\n",
       "      <td>50.303165</td>\n",
       "      <td>70.091687</td>\n",
       "      <td>51.561183</td>\n",
       "      <td>78.268383</td>\n",
       "      <td>193 192 193 194 194 194 193 192 168 111 50 12 ...</td>\n",
       "    </tr>\n",
       "    <tr>\n",
       "      <th>4</th>\n",
       "      <td>66.725301</td>\n",
       "      <td>39.621261</td>\n",
       "      <td>32.244810</td>\n",
       "      <td>38.042032</td>\n",
       "      <td>58.565890</td>\n",
       "      <td>39.621261</td>\n",
       "      <td>72.515926</td>\n",
       "      <td>39.884466</td>\n",
       "      <td>36.982380</td>\n",
       "      <td>39.094852</td>\n",
       "      <td>...</td>\n",
       "      <td>64.889521</td>\n",
       "      <td>60.671411</td>\n",
       "      <td>77.523239</td>\n",
       "      <td>31.191755</td>\n",
       "      <td>76.997301</td>\n",
       "      <td>44.962748</td>\n",
       "      <td>73.707387</td>\n",
       "      <td>44.227141</td>\n",
       "      <td>86.871166</td>\n",
       "      <td>147 148 160 196 215 214 216 217 219 220 206 18...</td>\n",
       "    </tr>\n",
       "  </tbody>\n",
       "</table>\n",
       "<p>5 rows × 31 columns</p>\n",
       "</div>"
      ],
      "text/plain": [
       "   left_eye_center_x  left_eye_center_y  right_eye_center_x  \\\n",
       "0          66.033564          39.002274           30.227008   \n",
       "1          64.332936          34.970077           29.949277   \n",
       "2          65.057053          34.909642           30.903789   \n",
       "3          65.225739          37.261774           32.023096   \n",
       "4          66.725301          39.621261           32.244810   \n",
       "\n",
       "   right_eye_center_y  left_eye_inner_corner_x  left_eye_inner_corner_y  \\\n",
       "0           36.421678                59.582075                39.647423   \n",
       "1           33.448715                58.856170                35.274349   \n",
       "2           34.909642                59.412000                36.320968   \n",
       "3           37.261774                60.003339                39.127179   \n",
       "4           38.042032                58.565890                39.621261   \n",
       "\n",
       "   left_eye_outer_corner_x  left_eye_outer_corner_y  right_eye_inner_corner_x  \\\n",
       "0                73.130346                39.969997                 36.356571   \n",
       "1                70.722723                36.187166                 36.034723   \n",
       "2                70.984421                36.320968                 37.678105   \n",
       "3                72.314713                38.380967                 37.618643   \n",
       "4                72.515926                39.884466                 36.982380   \n",
       "\n",
       "   right_eye_inner_corner_y  \\\n",
       "0                 37.389402   \n",
       "1                 34.361532   \n",
       "2                 36.320968   \n",
       "3                 38.754115   \n",
       "4                 39.094852   \n",
       "\n",
       "                         ...                          nose_tip_y  \\\n",
       "0                        ...                           57.066803   \n",
       "1                        ...                           55.660936   \n",
       "2                        ...                           53.538947   \n",
       "3                        ...                           54.166539   \n",
       "4                        ...                           64.889521   \n",
       "\n",
       "   mouth_left_corner_x  mouth_left_corner_y  mouth_right_corner_x  \\\n",
       "0            61.195308            79.970165             28.614496   \n",
       "1            56.421447            76.352000             35.122383   \n",
       "2            60.822947            73.014316             33.726316   \n",
       "3            65.598887            72.703722             37.245496   \n",
       "4            60.671411            77.523239             31.191755   \n",
       "\n",
       "   mouth_right_corner_y  mouth_center_top_lip_x  mouth_center_top_lip_y  \\\n",
       "0             77.388992               43.312602               72.935459   \n",
       "1             76.047660               46.684596               70.266553   \n",
       "2             72.732000               47.274947               70.191789   \n",
       "3             74.195478               50.303165               70.091687   \n",
       "4             76.997301               44.962748               73.707387   \n",
       "\n",
       "   mouth_center_bottom_lip_x  mouth_center_bottom_lip_y  \\\n",
       "0                  43.130707                  84.485774   \n",
       "1                  45.467915                  85.480170   \n",
       "2                  47.274947                  78.659368   \n",
       "3                  51.561183                  78.268383   \n",
       "4                  44.227141                  86.871166   \n",
       "\n",
       "                                               Image  \n",
       "0  238 236 237 238 240 240 239 241 241 243 240 23...  \n",
       "1  219 215 204 196 204 211 212 200 180 168 178 19...  \n",
       "2  144 142 159 180 188 188 184 180 167 132 84 59 ...  \n",
       "3  193 192 193 194 194 194 193 192 168 111 50 12 ...  \n",
       "4  147 148 160 196 215 214 216 217 219 220 206 18...  \n",
       "\n",
       "[5 rows x 31 columns]"
      ]
     },
     "execution_count": 3,
     "metadata": {},
     "output_type": "execute_result"
    }
   ],
   "source": [
    "df.head()"
   ]
  },
  {
   "cell_type": "code",
   "execution_count": 4,
   "metadata": {},
   "outputs": [
    {
     "name": "stdout",
     "output_type": "stream",
     "text": [
      "True\n",
      "\n",
      "\n",
      "MISSING VALUES FOR KEYPOINTS BY NAME:\n",
      "\n",
      "left_eye_center_x              10\n",
      "left_eye_center_y              10\n",
      "right_eye_center_x             13\n",
      "right_eye_center_y             13\n",
      "left_eye_inner_corner_x      4778\n",
      "left_eye_inner_corner_y      4778\n",
      "left_eye_outer_corner_x      4782\n",
      "left_eye_outer_corner_y      4782\n",
      "right_eye_inner_corner_x     4781\n",
      "right_eye_inner_corner_y     4781\n",
      "right_eye_outer_corner_x     4781\n",
      "right_eye_outer_corner_y     4781\n",
      "left_eyebrow_inner_end_x     4779\n",
      "left_eyebrow_inner_end_y     4779\n",
      "left_eyebrow_outer_end_x     4824\n",
      "left_eyebrow_outer_end_y     4824\n",
      "right_eyebrow_inner_end_x    4779\n",
      "right_eyebrow_inner_end_y    4779\n",
      "right_eyebrow_outer_end_x    4813\n",
      "right_eyebrow_outer_end_y    4813\n",
      "nose_tip_x                      0\n",
      "nose_tip_y                      0\n",
      "mouth_left_corner_x          4780\n",
      "mouth_left_corner_y          4780\n",
      "mouth_right_corner_x         4779\n",
      "mouth_right_corner_y         4779\n",
      "mouth_center_top_lip_x       4774\n",
      "mouth_center_top_lip_y       4774\n",
      "mouth_center_bottom_lip_x      33\n",
      "mouth_center_bottom_lip_y      33\n",
      "dtype: int64\n",
      "\n",
      "\n",
      "TOTAL MISSING VALUES IN THE DATASET:\n",
      "\n",
      "105412\n",
      "Missing values after filling: 0\n"
     ]
    }
   ],
   "source": [
    "# check if the dataframe have some missing facial keypoints \n",
    "# if yes replce them with zeros\n",
    "temp_df = df.drop('Image', axis=1)\n",
    "# check for null values\n",
    "print(temp_df.isnull().values.any())\n",
    "# print the count of null/NaNs in each column of dataframe\n",
    "print(\"\\n\\nMISSING VALUES FOR KEYPOINTS BY NAME:\\n\")\n",
    "print(temp_df.isnull().sum())\n",
    "print(\"\\n\\nTOTAL MISSING VALUES IN THE DATASET:\\n\")\n",
    "print(temp_df.isnull().sum().sum())\n",
    "# fill the missing values using forward filling rather than a 0 or some constant \n",
    "# value as it is likely that the next keypoint lies closer to previous one on a face\n",
    "df = df.fillna(method=\"ffill\")\n",
    "print(\"Missing values after filling:\", df.isnull().sum().sum())"
   ]
  },
  {
   "cell_type": "code",
   "execution_count": 5,
   "metadata": {},
   "outputs": [
    {
     "name": "stdout",
     "output_type": "stream",
     "text": [
      "(7049, 31)\n",
      "5639\n",
      "(5639, 31)\n",
      "(1410, 31)\n"
     ]
    }
   ],
   "source": [
    "\"\"\"Splitting data into train and validation set 80/20\"\"\"\n",
    "df_shape = df.shape\n",
    "print(df_shape)\n",
    "train_split = int(0.8 * df_shape[0])\n",
    "print(train_split)\n",
    "train_df = df.iloc[:train_split, :]\n",
    "val_df = df.iloc[train_split:, :]\n",
    "print(train_df.shape)\n",
    "print(val_df.shape)"
   ]
  },
  {
   "cell_type": "markdown",
   "metadata": {},
   "source": [
    "### Prepare training data"
   ]
  },
  {
   "cell_type": "code",
   "execution_count": 6,
   "metadata": {},
   "outputs": [
    {
     "name": "stdout",
     "output_type": "stream",
     "text": [
      "(5639, 9216)\n"
     ]
    }
   ],
   "source": [
    "\"\"\"Prepare X_train\"\"\"\n",
    "# convert image pixels(str) to numpy(float32) arrays\n",
    "train_images = train_df['Image']\n",
    "flat_image_size = len(train_images[0].split())\n",
    "X_train = np.zeros((train_df.shape[0],flat_image_size), dtype=np.float32)\n",
    "for index in range(len(train_images)):\n",
    "    pixels_str = train_images[index].split()\n",
    "    # Using map function to convert all string values to float32\n",
    "    pixels = list(map(np.float32, pixels_str))\n",
    "    X_train[index] = np.asarray(pixels)\n",
    "print(X_train.shape)"
   ]
  },
  {
   "cell_type": "code",
   "execution_count": 7,
   "metadata": {},
   "outputs": [
    {
     "data": {
      "text/plain": [
       "array([238., 236., 237., ...,  70.,  75.,  90.], dtype=float32)"
      ]
     },
     "execution_count": 7,
     "metadata": {},
     "output_type": "execute_result"
    }
   ],
   "source": [
    "X_train[0]"
   ]
  },
  {
   "cell_type": "code",
   "execution_count": 8,
   "metadata": {},
   "outputs": [],
   "source": [
    "# save X_train as .npy file for fast access\n",
    "np.save('./processed_data/x_train.npy',X_train)"
   ]
  },
  {
   "cell_type": "code",
   "execution_count": 9,
   "metadata": {},
   "outputs": [
    {
     "name": "stdout",
     "output_type": "stream",
     "text": [
      "(5639, 30)\n"
     ]
    }
   ],
   "source": [
    "\"\"\"Prepare Y_train\"\"\"\n",
    "# access the facial keypoints as rows of dataframe, remove the 'Image' column and convert the point to floats\n",
    "column_names = list(train_df.columns.values)\n",
    "# remove the name of last column as it holds Image pixel values\n",
    "column_names = column_names[:len(column_names)-1]\n",
    "\n",
    "Y_train = np.zeros((train_df.shape[0],len(column_names)), dtype=np.float32)\n",
    "print(Y_train.shape)\n",
    "# iterate through the rows of dataframe\n",
    "for index, row in train_df.iterrows():\n",
    "    keypoints = []\n",
    "    for name in column_names:\n",
    "        keypoints.append(row[name])\n",
    "    Y_train[index] = np.asarray(keypoints)"
   ]
  },
  {
   "cell_type": "code",
   "execution_count": 10,
   "metadata": {},
   "outputs": [],
   "source": [
    "# save Y_train as .npy file for fast access\n",
    "np.save('./processed_data/y_train.npy',Y_train)"
   ]
  },
  {
   "cell_type": "code",
   "execution_count": 11,
   "metadata": {},
   "outputs": [
    {
     "name": "stdout",
     "output_type": "stream",
     "text": [
      "<class 'generator'>\n"
     ]
    }
   ],
   "source": [
    "#rough\n",
    "lis = train_df.iterrows()\n",
    "print(type(lis))"
   ]
  },
  {
   "cell_type": "markdown",
   "metadata": {},
   "source": [
    "### Prepare validation data"
   ]
  },
  {
   "cell_type": "code",
   "execution_count": 14,
   "metadata": {},
   "outputs": [
    {
     "data": {
      "text/plain": [
       "5639    138 138 138 137 135 132 128 123 117 112 107 10...\n",
       "5640    47 39 32 29 33 31 24 20 17 17 20 22 23 23 24 2...\n",
       "5641    112 117 123 133 132 126 113 109 111 114 113 10...\n",
       "5642    44 45 46 46 46 46 46 46 44 43 54 64 73 76 75 8...\n",
       "5643    42 41 42 44 47 50 54 59 64 69 68 64 55 48 43 4...\n",
       "Name: Image, dtype: object"
      ]
     },
     "execution_count": 14,
     "metadata": {},
     "output_type": "execute_result"
    }
   ],
   "source": [
    "val_df.head()['Image']"
   ]
  },
  {
   "cell_type": "code",
   "execution_count": 17,
   "metadata": {},
   "outputs": [
    {
     "name": "stdout",
     "output_type": "stream",
     "text": [
      "(1410, 9216)\n"
     ]
    }
   ],
   "source": [
    "\"\"\"Prepare X_val\"\"\"\n",
    "# convert image pixels(str) to numpy(float32) arrays\n",
    "val_images = val_df['Image']\n",
    "flat_image_size = len(val_images[train_split].split())\n",
    "X_val = np.zeros((val_df.shape[0],flat_image_size), dtype=np.float32)\n",
    "index = 0\n",
    "for image in val_images:\n",
    "    pixels_str = image.split()\n",
    "    # Using map function to convert all string values to float32\n",
    "    pixels = list(map(np.float32, pixels_str))\n",
    "    X_val[index] = np.asarray(pixels)\n",
    "    index += 1\n",
    "print(X_val.shape)"
   ]
  },
  {
   "cell_type": "code",
   "execution_count": 18,
   "metadata": {},
   "outputs": [],
   "source": [
    "# save X_val as .npy file for fast access\n",
    "np.save('./processed_data/x_val.npy',X_val)"
   ]
  },
  {
   "cell_type": "code",
   "execution_count": 30,
   "metadata": {},
   "outputs": [
    {
     "name": "stdout",
     "output_type": "stream",
     "text": [
      "(1410, 30)\n",
      "(1410, 30)\n"
     ]
    }
   ],
   "source": [
    "\"\"\"Prepare Y_val\"\"\"\n",
    "# access the facial keypoints as rows of dataframe, remove the 'Image' column and convert the point to floats\n",
    "column_names = list(val_df.columns.values)\n",
    "# remove the name of last column as it holds Image pixel values\n",
    "column_names = column_names[:len(column_names)-1]\n",
    "\n",
    "Y_val = np.zeros((val_df.shape[0],len(column_names)), dtype=np.float32)\n",
    "\n",
    "# iterate through the rows of dataframe\n",
    "index = 0\n",
    "for ind, row in val_df.iterrows():\n",
    "    keypoints = []\n",
    "    for name in column_names:\n",
    "        keypoints.append(row[name])\n",
    "    Y_val[index] = np.asarray(keypoints)\n",
    "    index += 1\n",
    "print(Y_val.shape)"
   ]
  },
  {
   "cell_type": "code",
   "execution_count": 31,
   "metadata": {},
   "outputs": [],
   "source": [
    "# save Y_val as .npy file for fast access\n",
    "np.save('./processed_data/y_val.npy',Y_val)"
   ]
  },
  {
   "cell_type": "code",
   "execution_count": null,
   "metadata": {},
   "outputs": [],
   "source": []
  }
 ],
 "metadata": {
  "kernelspec": {
   "display_name": "Python 3",
   "language": "python",
   "name": "python3"
  },
  "language_info": {
   "codemirror_mode": {
    "name": "ipython",
    "version": 3
   },
   "file_extension": ".py",
   "mimetype": "text/x-python",
   "name": "python",
   "nbconvert_exporter": "python",
   "pygments_lexer": "ipython3",
   "version": "3.5.2"
  }
 },
 "nbformat": 4,
 "nbformat_minor": 2
}
